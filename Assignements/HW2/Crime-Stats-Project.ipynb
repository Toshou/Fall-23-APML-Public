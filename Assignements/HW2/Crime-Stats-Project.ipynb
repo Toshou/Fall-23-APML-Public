{
 "cells": [
  {
   "cell_type": "markdown",
   "id": "55e6b918-afac-43e8-b338-43f8ac64014f",
   "metadata": {},
   "source": [
    "##  Deep Neural Networks Project"
   ]
  },
  {
   "cell_type": "markdown",
   "id": "1a8e066d-2849-4a6e-9c71-bb98d605ae07",
   "metadata": {},
   "source": [
    "In this project, you will be working with a real-world data set from the Las Vegas Metropolitan Police Department. The dataset  contains information about the reported incidents, including the time and location of the crime, type of incident, and number of persons involved. "
   ]
  },
  {
   "cell_type": "markdown",
   "id": "9e87fac7-352a-4c39-b087-76254b5e2743",
   "metadata": {},
   "source": [
    "The dataset is downloaded from the public docket at: \n",
    "https://opendata-lvmpd.hub.arcgis.com\n",
    "\n",
    "let's read the csv file and transform the data:"
   ]
  },
  {
   "cell_type": "code",
   "execution_count": 401,
   "id": "637211a4-582f-426b-a127-c3f284463f35",
   "metadata": {},
   "outputs": [],
   "source": [
    "import torch\n",
    "import pandas as pd\n",
    "from torch.utils.data import DataLoader, TensorDataset\n",
    "import matplotlib.pyplot as plt\n",
    "import seaborn as sns\n",
    "import numpy as np"
   ]
  },
  {
   "cell_type": "code",
   "execution_count": 402,
   "id": "bcf40b02-80b6-4abc-a662-f7ed50a65181",
   "metadata": {},
   "outputs": [],
   "source": [
    "orig_df = pd.read_csv('../../datasets/LVMPD-Stats.csv', parse_dates=['ReportedOn'])"
   ]
  },
  {
   "cell_type": "code",
   "execution_count": 403,
   "id": "e1ca1d15-3955-4971-a3c4-c1a73b62edda",
   "metadata": {},
   "outputs": [],
   "source": [
    "df = pd.read_csv('../../datasets/LVMPD-Stats.csv', parse_dates=['ReportedOn'],\n",
    "                 usecols = ['X', 'Y', 'ReportedOn',\n",
    "                            'Area_Command','NIBRSOffenseCode',\n",
    "                            'VictimCount' ] )\n",
    "\n",
    "df['DayOfWeek'] = df['ReportedOn'].dt.day_name()\n",
    "df['Time' ]     = df['ReportedOn'].dt.hour\n",
    "df.drop(columns = 'ReportedOn', inplace=True)"
   ]
  },
  {
   "cell_type": "code",
   "execution_count": 404,
   "id": "3ddc413d-ba3f-4204-bc18-7fdd4de8d221",
   "metadata": {},
   "outputs": [],
   "source": [
    "\n",
    "df['X'] = df['X'] \n",
    "df['Y'] = df['Y'] \n",
    "df['Time'] = pd.factorize(df['Time'])[0]\n",
    "df['DayOfWeek'] = pd.factorize(df['DayOfWeek'])[0]\n",
    "df.Area_Command = pd.factorize(df['Area_Command'])[0]\n",
    "df.VictimCount = pd.factorize(df['VictimCount'])[0]\n",
    "df.NIBRSOffenseCode = pd.factorize(df['NIBRSOffenseCode'])[0]\n",
    "df.dropna(inplace=True)"
   ]
  },
  {
   "cell_type": "code",
   "execution_count": 405,
   "id": "a9c6162f-9686-4195-818d-950a6368c686",
   "metadata": {},
   "outputs": [],
   "source": [
    "df= df[['X', 'Y', 'Area_Command', 'NIBRSOffenseCode',\n",
    "       'DayOfWeek', 'Time','VictimCount']]"
   ]
  },
  {
   "cell_type": "code",
   "execution_count": 406,
   "id": "a90bc78a-6d1b-4fe4-a1b0-8333aec1c851",
   "metadata": {},
   "outputs": [
    {
     "data": {
      "text/plain": [
       "(275, 7)"
      ]
     },
     "execution_count": 406,
     "metadata": {},
     "output_type": "execute_result"
    }
   ],
   "source": [
    "df.values.shape"
   ]
  },
  {
   "cell_type": "markdown",
   "id": "651605b1-8d2c-4d3e-a09e-9aef6e550fc6",
   "metadata": {},
   "source": [
    "# Goal\n",
    "The goal is to build a predictive model that is trained on the following data:\n",
    "* latitude and longitude (location)\n",
    "* Hour of the day\n",
    "* Day of the week\n",
    "* Area-of-command code: The police designation of the bureau of the operation.\n",
    "* Classification code for the crime committed\n",
    "  \n",
    "The predicted variable is the number of persons involved in the accident.\n"
   ]
  },
  {
   "cell_type": "markdown",
   "id": "0e54f0b8-83f9-4db9-88f9-f5a595342069",
   "metadata": {},
   "source": [
    "## Task 1\n",
    "* print a few rows of the values in the dataframe ``df`` and explain what each column of data means. \n",
    "* identify the input and target variables\n",
    "* what is the range of values in each column? Do you need to scale, shift or normalize your data? \n"
   ]
  },
  {
   "cell_type": "code",
   "execution_count": 407,
   "id": "7af36286",
   "metadata": {},
   "outputs": [
    {
     "data": {
      "text/html": [
       "<div>\n",
       "<style scoped>\n",
       "    .dataframe tbody tr th:only-of-type {\n",
       "        vertical-align: middle;\n",
       "    }\n",
       "\n",
       "    .dataframe tbody tr th {\n",
       "        vertical-align: top;\n",
       "    }\n",
       "\n",
       "    .dataframe thead th {\n",
       "        text-align: right;\n",
       "    }\n",
       "</style>\n",
       "<table border=\"1\" class=\"dataframe\">\n",
       "  <thead>\n",
       "    <tr style=\"text-align: right;\">\n",
       "      <th></th>\n",
       "      <th>X</th>\n",
       "      <th>Y</th>\n",
       "      <th>Area_Command</th>\n",
       "      <th>NIBRSOffenseCode</th>\n",
       "      <th>DayOfWeek</th>\n",
       "      <th>Time</th>\n",
       "      <th>VictimCount</th>\n",
       "    </tr>\n",
       "  </thead>\n",
       "  <tbody>\n",
       "    <tr>\n",
       "      <th>0</th>\n",
       "      <td>-115.087518</td>\n",
       "      <td>36.216702</td>\n",
       "      <td>0</td>\n",
       "      <td>0</td>\n",
       "      <td>0</td>\n",
       "      <td>0</td>\n",
       "      <td>0</td>\n",
       "    </tr>\n",
       "    <tr>\n",
       "      <th>1</th>\n",
       "      <td>-115.240172</td>\n",
       "      <td>36.189693</td>\n",
       "      <td>1</td>\n",
       "      <td>1</td>\n",
       "      <td>1</td>\n",
       "      <td>1</td>\n",
       "      <td>0</td>\n",
       "    </tr>\n",
       "    <tr>\n",
       "      <th>2</th>\n",
       "      <td>-115.143088</td>\n",
       "      <td>36.181329</td>\n",
       "      <td>2</td>\n",
       "      <td>1</td>\n",
       "      <td>2</td>\n",
       "      <td>0</td>\n",
       "      <td>1</td>\n",
       "    </tr>\n",
       "    <tr>\n",
       "      <th>3</th>\n",
       "      <td>-115.225014</td>\n",
       "      <td>36.117633</td>\n",
       "      <td>3</td>\n",
       "      <td>1</td>\n",
       "      <td>1</td>\n",
       "      <td>2</td>\n",
       "      <td>2</td>\n",
       "    </tr>\n",
       "    <tr>\n",
       "      <th>4</th>\n",
       "      <td>-115.176708</td>\n",
       "      <td>36.095967</td>\n",
       "      <td>4</td>\n",
       "      <td>1</td>\n",
       "      <td>1</td>\n",
       "      <td>3</td>\n",
       "      <td>0</td>\n",
       "    </tr>\n",
       "  </tbody>\n",
       "</table>\n",
       "</div>"
      ],
      "text/plain": [
       "            X          Y  Area_Command  NIBRSOffenseCode  DayOfWeek  Time  \\\n",
       "0 -115.087518  36.216702             0                 0          0     0   \n",
       "1 -115.240172  36.189693             1                 1          1     1   \n",
       "2 -115.143088  36.181329             2                 1          2     0   \n",
       "3 -115.225014  36.117633             3                 1          1     2   \n",
       "4 -115.176708  36.095967             4                 1          1     3   \n",
       "\n",
       "   VictimCount  \n",
       "0            0  \n",
       "1            0  \n",
       "2            1  \n",
       "3            2  \n",
       "4            0  "
      ]
     },
     "execution_count": 407,
     "metadata": {},
     "output_type": "execute_result"
    }
   ],
   "source": [
    "df.head()"
   ]
  },
  {
   "cell_type": "code",
   "execution_count": 408,
   "id": "8adb2411",
   "metadata": {},
   "outputs": [
    {
     "data": {
      "text/plain": [
       "Index(['X', 'Y', 'Area_Command', 'NIBRSOffenseCode', 'DayOfWeek', 'Time',\n",
       "       'VictimCount'],\n",
       "      dtype='object')"
      ]
     },
     "execution_count": 408,
     "metadata": {},
     "output_type": "execute_result"
    }
   ],
   "source": [
    "df.columns"
   ]
  },
  {
   "cell_type": "markdown",
   "id": "11cab730",
   "metadata": {},
   "source": [
    "In our dataset, we have these columns :\n",
    "\n",
    "    'X' (latitude)\n",
    "    'Y' (longitude)\n",
    "    'Time' (Hour of the day)\n",
    "    'DayOfWeek' (Day of the week)\n",
    "    'Area_Command' (Area-of-command code)\n",
    "    'NIBRSOffenseCode' (Classification code for the crime committed)\n",
    "\n",
    "They also happend to be our input."
   ]
  },
  {
   "cell_type": "markdown",
   "id": "136afb41",
   "metadata": {},
   "source": [
    "Our target variable would be the last column VictimCount (Number of victims)"
   ]
  },
  {
   "cell_type": "markdown",
   "id": "e3d38673",
   "metadata": {},
   "source": [
    "To check if we need to scale, shift or normalize our data, we will use the describe method:"
   ]
  },
  {
   "cell_type": "code",
   "execution_count": 409,
   "id": "c1f943b7",
   "metadata": {},
   "outputs": [
    {
     "data": {
      "text/html": [
       "<div>\n",
       "<style scoped>\n",
       "    .dataframe tbody tr th:only-of-type {\n",
       "        vertical-align: middle;\n",
       "    }\n",
       "\n",
       "    .dataframe tbody tr th {\n",
       "        vertical-align: top;\n",
       "    }\n",
       "\n",
       "    .dataframe thead th {\n",
       "        text-align: right;\n",
       "    }\n",
       "</style>\n",
       "<table border=\"1\" class=\"dataframe\">\n",
       "  <thead>\n",
       "    <tr style=\"text-align: right;\">\n",
       "      <th></th>\n",
       "      <th>X</th>\n",
       "      <th>Y</th>\n",
       "      <th>Area_Command</th>\n",
       "      <th>NIBRSOffenseCode</th>\n",
       "      <th>DayOfWeek</th>\n",
       "      <th>Time</th>\n",
       "      <th>VictimCount</th>\n",
       "    </tr>\n",
       "  </thead>\n",
       "  <tbody>\n",
       "    <tr>\n",
       "      <th>count</th>\n",
       "      <td>275.000000</td>\n",
       "      <td>275.000000</td>\n",
       "      <td>275.000000</td>\n",
       "      <td>275.000000</td>\n",
       "      <td>275.000000</td>\n",
       "      <td>275.000000</td>\n",
       "      <td>275.000000</td>\n",
       "    </tr>\n",
       "    <tr>\n",
       "      <th>mean</th>\n",
       "      <td>-115.159326</td>\n",
       "      <td>36.143360</td>\n",
       "      <td>3.978182</td>\n",
       "      <td>0.909091</td>\n",
       "      <td>2.981818</td>\n",
       "      <td>11.236364</td>\n",
       "      <td>0.712727</td>\n",
       "    </tr>\n",
       "    <tr>\n",
       "      <th>std</th>\n",
       "      <td>0.101294</td>\n",
       "      <td>0.118418</td>\n",
       "      <td>3.045799</td>\n",
       "      <td>0.334878</td>\n",
       "      <td>1.924590</td>\n",
       "      <td>7.039937</td>\n",
       "      <td>0.978427</td>\n",
       "    </tr>\n",
       "    <tr>\n",
       "      <th>min</th>\n",
       "      <td>-116.000000</td>\n",
       "      <td>35.068419</td>\n",
       "      <td>0.000000</td>\n",
       "      <td>0.000000</td>\n",
       "      <td>0.000000</td>\n",
       "      <td>0.000000</td>\n",
       "      <td>0.000000</td>\n",
       "    </tr>\n",
       "    <tr>\n",
       "      <th>25%</th>\n",
       "      <td>-115.209198</td>\n",
       "      <td>36.114704</td>\n",
       "      <td>1.000000</td>\n",
       "      <td>1.000000</td>\n",
       "      <td>1.000000</td>\n",
       "      <td>5.000000</td>\n",
       "      <td>0.000000</td>\n",
       "    </tr>\n",
       "    <tr>\n",
       "      <th>50%</th>\n",
       "      <td>-115.149945</td>\n",
       "      <td>36.152415</td>\n",
       "      <td>3.000000</td>\n",
       "      <td>1.000000</td>\n",
       "      <td>3.000000</td>\n",
       "      <td>11.000000</td>\n",
       "      <td>0.000000</td>\n",
       "    </tr>\n",
       "    <tr>\n",
       "      <th>75%</th>\n",
       "      <td>-115.105200</td>\n",
       "      <td>36.183854</td>\n",
       "      <td>6.000000</td>\n",
       "      <td>1.000000</td>\n",
       "      <td>5.000000</td>\n",
       "      <td>18.000000</td>\n",
       "      <td>1.000000</td>\n",
       "    </tr>\n",
       "    <tr>\n",
       "      <th>max</th>\n",
       "      <td>-114.625570</td>\n",
       "      <td>37.000000</td>\n",
       "      <td>11.000000</td>\n",
       "      <td>2.000000</td>\n",
       "      <td>6.000000</td>\n",
       "      <td>23.000000</td>\n",
       "      <td>6.000000</td>\n",
       "    </tr>\n",
       "  </tbody>\n",
       "</table>\n",
       "</div>"
      ],
      "text/plain": [
       "                X           Y  Area_Command  NIBRSOffenseCode   DayOfWeek  \\\n",
       "count  275.000000  275.000000    275.000000        275.000000  275.000000   \n",
       "mean  -115.159326   36.143360      3.978182          0.909091    2.981818   \n",
       "std      0.101294    0.118418      3.045799          0.334878    1.924590   \n",
       "min   -116.000000   35.068419      0.000000          0.000000    0.000000   \n",
       "25%   -115.209198   36.114704      1.000000          1.000000    1.000000   \n",
       "50%   -115.149945   36.152415      3.000000          1.000000    3.000000   \n",
       "75%   -115.105200   36.183854      6.000000          1.000000    5.000000   \n",
       "max   -114.625570   37.000000     11.000000          2.000000    6.000000   \n",
       "\n",
       "             Time  VictimCount  \n",
       "count  275.000000   275.000000  \n",
       "mean    11.236364     0.712727  \n",
       "std      7.039937     0.978427  \n",
       "min      0.000000     0.000000  \n",
       "25%      5.000000     0.000000  \n",
       "50%     11.000000     0.000000  \n",
       "75%     18.000000     1.000000  \n",
       "max     23.000000     6.000000  "
      ]
     },
     "execution_count": 409,
     "metadata": {},
     "output_type": "execute_result"
    }
   ],
   "source": [
    "df.describe()"
   ]
  },
  {
   "cell_type": "markdown",
   "id": "127f770a",
   "metadata": {},
   "source": [
    "It does not look like we need to make any transformation on our data."
   ]
  },
  {
   "cell_type": "markdown",
   "id": "5549ecc9-3c0b-4efa-9a1f-340a25a1e4be",
   "metadata": {},
   "source": [
    "## Task 2 \n",
    "\n",
    "* Create two `DataLoader` objects for training and testing based on the input and output variables. Pick a reasonable batch size and verify the shape of data by iterating over the one dataset and printing the shape of the batched data. "
   ]
  },
  {
   "cell_type": "code",
   "execution_count": 410,
   "id": "00fe4287-934b-4799-9e43-c3571acfbab4",
   "metadata": {},
   "outputs": [
    {
     "name": "stdout",
     "output_type": "stream",
     "text": [
      "Shape of X_batch: torch.Size([64, 6])\n",
      "Shape of y_batch: torch.Size([64])\n"
     ]
    }
   ],
   "source": [
    "X = torch.tensor(df[['X', 'Y', 'Area_Command', 'NIBRSOffenseCode', 'DayOfWeek', 'Time']].values, dtype=torch.float32)\n",
    "y = torch.tensor(df['VictimCount'].values, dtype=torch.float32)\n",
    "\n",
    "full_dataset = TensorDataset(X, y)\n",
    "\n",
    "# Split the dataset into train and test\n",
    "train_size = int(0.8 * len(full_dataset))\n",
    "test_size = len(full_dataset) - train_size\n",
    "train_dataset, test_dataset = torch.utils.data.random_split(full_dataset, [train_size, test_size])\n",
    "\n",
    "batch_size = 64\n",
    "\n",
    "# Create DataLoaders for train and test datasets\n",
    "train_loader = DataLoader(train_dataset, batch_size=batch_size, shuffle=True)\n",
    "test_loader = DataLoader(test_dataset, batch_size=batch_size, shuffle=False)\n",
    "\n",
    "#Let's verify th'e shape of our data\n",
    "for batch in train_loader:\n",
    "    X_batch, y_batch = batch\n",
    "    print(\"Shape of X_batch:\", X_batch.shape)\n",
    "    print(\"Shape of y_batch:\", y_batch.shape)\n",
    "    break \n"
   ]
  },
  {
   "cell_type": "markdown",
   "id": "1fb6f08c-5e70-4b14-b62c-4686d9f7aace",
   "metadata": {},
   "source": [
    "## Task 3\n",
    "In this task you will try to predict number of crime victims as a **real number**. Therefore the machine learning problem is a **regression** problem. \n",
    "\n",
    "* Define the proper loss function for this task\n",
    "* what should the size of the predicted output be?\n",
    "* explain your choice of architecture, including how many layers you will be using\n",
    "* define an optimizer for training this model, choose a proper learning rate \n",
    "* write a training loop that obtains a batch out of the  training data and calculates the forward and backward passes over the neural network. Call the optimizer to update the weights of the neural network.\n",
    "* write a for loop that continues the training over a number of epochs. At the end of each epoch, calculate the ``MSE`` error on the test data and print it.\n",
    "* is your model training well? Adjust the learning rate, hidden size of the network, and try different activation functions and number of layers to achieve the best accuracy and report it. "
   ]
  },
  {
   "cell_type": "markdown",
   "id": "e830cece",
   "metadata": {},
   "source": [
    "We will use MSE as loss function.\n"
   ]
  },
  {
   "cell_type": "markdown",
   "id": "24cb3177",
   "metadata": {},
   "source": [
    "As it is a regression problem and we only want to predict the number of crime victims as a real number, our output should have 1 as size.\n"
   ]
  },
  {
   "cell_type": "markdown",
   "id": "2fa5196b",
   "metadata": {},
   "source": [
    "I tried using a simple model with almost no hidden layer, but as the results were not so great, i added a few layers and it turned out MSE lowered.\n"
   ]
  },
  {
   "cell_type": "markdown",
   "id": "35924f81",
   "metadata": {},
   "source": [
    "I also tried using 0.01 as learning rate and using SGD as optimizer, but i had better result using these final parameters:"
   ]
  },
  {
   "cell_type": "markdown",
   "id": "6d3b84da",
   "metadata": {},
   "source": [
    "We will use Adam as optimizer and 0.001 as learning rate.\n"
   ]
  },
  {
   "cell_type": "code",
   "execution_count": 411,
   "id": "721016e2",
   "metadata": {},
   "outputs": [
    {
     "name": "stdout",
     "output_type": "stream",
     "text": [
      "Epoch 1->10 | MSE : 2.2946348190307617\n",
      "Epoch 2->10 | MSE : 1.6176365613937378\n",
      "Epoch 3->10 | MSE : 0.9264078736305237\n",
      "Epoch 4->10 | MSE : 1.1579893827438354\n",
      "Epoch 5->10 | MSE : 1.2746950387954712\n",
      "Epoch 6->10 | MSE : 1.041954755783081\n"
     ]
    },
    {
     "name": "stderr",
     "output_type": "stream",
     "text": [
      "c:\\Users\\Chloé\\AppData\\Local\\Programs\\Python\\Python310\\lib\\site-packages\\torch\\nn\\modules\\loss.py:535: UserWarning: Using a target size (torch.Size([64])) that is different to the input size (torch.Size([64, 1])). This will likely lead to incorrect results due to broadcasting. Please ensure they have the same size.\n",
      "  return F.mse_loss(input, target, reduction=self.reduction)\n",
      "c:\\Users\\Chloé\\AppData\\Local\\Programs\\Python\\Python310\\lib\\site-packages\\torch\\nn\\modules\\loss.py:535: UserWarning: Using a target size (torch.Size([28])) that is different to the input size (torch.Size([28, 1])). This will likely lead to incorrect results due to broadcasting. Please ensure they have the same size.\n",
      "  return F.mse_loss(input, target, reduction=self.reduction)\n",
      "c:\\Users\\Chloé\\AppData\\Local\\Programs\\Python\\Python310\\lib\\site-packages\\torch\\nn\\modules\\loss.py:535: UserWarning: Using a target size (torch.Size([55])) that is different to the input size (torch.Size([55, 1])). This will likely lead to incorrect results due to broadcasting. Please ensure they have the same size.\n",
      "  return F.mse_loss(input, target, reduction=self.reduction)\n"
     ]
    },
    {
     "name": "stdout",
     "output_type": "stream",
     "text": [
      "Epoch 7->10 | MSE : 0.8672434091567993\n",
      "Epoch 8->10 | MSE : 0.9400821328163147\n",
      "Epoch 9->10 | MSE : 0.9902135729789734\n",
      "Epoch 10->10 | MSE : 0.9344565272331238\n"
     ]
    }
   ],
   "source": [
    "#Let's define our regression model:\n",
    "\n",
    "class Regression(torch.nn.Module):\n",
    "    def __init__(self, input_size, hidden_size, output_size):\n",
    "        super(Regression, self).__init__()\n",
    "        self.fc1 = torch.nn.Linear(input_size, hidden_size)\n",
    "        self.relu = torch.nn.ReLU()\n",
    "        self.fc2 = torch.nn.Linear(hidden_size, hidden_size)\n",
    "        self.fc3 = torch.nn.Linear(hidden_size, output_size)\n",
    "\n",
    "    def forward(self, x):\n",
    "        x = self.fc1(x)\n",
    "        x = self.relu(x)\n",
    "        x = self.fc2(x)\n",
    "        x = self.relu(x)\n",
    "        x = self.fc3(x)\n",
    "        return x\n",
    "\n",
    "#Let's define our hyperparameters:\n",
    "input_size = 6\n",
    "output_size = 1\n",
    "hidden_size = 64\n",
    "\n",
    "model = Regression(input_size, hidden_size, output_size)\n",
    "\n",
    "loss_function = torch.nn.MSELoss()\n",
    "optimizer = torch.optim.Adam(model.parameters(), lr=0.001)\n",
    "\n",
    "#Let's train our model\n",
    "num_epochs = 10\n",
    "\n",
    "for epoch in range(num_epochs):\n",
    "\n",
    "    model.train()\n",
    "\n",
    "    for X_train, y_train in train_loader:\n",
    "        optimizer.zero_grad()\n",
    "        output = model(X_train)\n",
    "        loss = loss_function(output, y_train)\n",
    "        loss.backward()\n",
    "        optimizer.step()\n",
    "\n",
    "    model.eval()\n",
    "\n",
    "    with torch.no_grad():\n",
    "        test_loss = 0\n",
    "        for X_test, y_test in test_loader:\n",
    "            test_output = model(X_test)\n",
    "            test_loss += loss_function(test_output, y_test)\n",
    "\n",
    "\n",
    "    print(f\"Epoch {epoch + 1}->{num_epochs} | MSE : {test_loss}\")\n"
   ]
  },
  {
   "cell_type": "markdown",
   "id": "86e3fc70-c6ce-4589-9930-128951290e8d",
   "metadata": {},
   "source": [
    "## Task 4 \n",
    "\n",
    "In this task, you will try to predict the number of crime victims as a **class number**. Therefore the machine learning problem is a **classification** problem. \n",
    "\n",
    "* Repeat all the steps in task 3. Specifically, pay attention to the differences with regression.\n",
    "* How would you find the number of classes on the output data?\n",
    "* How is the architecture different?\n",
    "* How is the loss function different?\n",
    "* Calculate the Accuracy for test data as the number of correct classified outputs divided by the total number of test data in each epoch. Report it at the end of each epoch\n",
    "* Try a few variations of learning rate, hidden dimensions, layers, etc. What is the best accuracy that you can get? "
   ]
  },
  {
   "cell_type": "code",
   "execution_count": 412,
   "id": "629b90fb",
   "metadata": {},
   "outputs": [
    {
     "data": {
      "text/plain": [
       "array([0, 0, 0, 1, 0, 0, 1, 0, 0, 0, 0, 0, 0, 0, 0, 0, 0, 0, 0, 0, 0, 0,\n",
       "       0, 0, 0, 0, 0, 0, 0, 0, 0, 0, 0, 0, 0, 0, 0, 0, 0, 0, 0, 0, 0, 0,\n",
       "       0, 0, 0, 0, 0, 0, 0, 0, 0, 0, 0, 0, 0, 0, 0, 0, 0, 0, 0, 0, 0, 0,\n",
       "       0, 0, 0, 0, 0, 0, 0, 1, 0, 0, 0, 0, 0, 0, 0, 0, 0, 0, 0, 0, 0, 0,\n",
       "       0, 0, 0, 0, 0, 0, 0, 0, 0, 0, 0, 0, 0, 0, 0, 0, 0, 1, 0, 0, 0, 0,\n",
       "       0, 0, 0, 1, 0, 0, 0, 0, 0, 0, 0, 0, 1, 1, 0, 0, 1, 0, 0, 1, 0, 0,\n",
       "       0, 0, 0, 0, 0, 0, 0, 0, 0, 0, 1, 0, 1, 1, 0, 0, 0, 0, 0, 0, 0, 0,\n",
       "       0, 0, 0, 1, 0, 0, 0, 0, 0, 1, 0, 0, 0, 0, 0, 0, 0, 0, 0, 1, 0, 1,\n",
       "       1, 0, 0, 0, 0, 0, 1, 1, 0, 0, 0, 0, 0, 0, 0, 0, 0, 0, 0, 0, 0, 0,\n",
       "       0, 0, 1, 0, 0, 0, 0, 0, 0, 0, 0, 0, 0, 1, 0, 1, 0, 0, 1, 1, 0, 1,\n",
       "       1, 0, 1, 0, 0, 0, 0, 0, 0, 0, 0, 0, 0, 0, 0, 0, 0, 0, 0, 0, 0, 1,\n",
       "       1, 0, 0, 0, 2, 0, 0, 0, 0, 0, 0, 0, 0, 2, 0, 0, 0, 0, 0, 0, 0, 0,\n",
       "       0, 0, 0, 0, 1, 0, 0, 0, 1, 0, 0])"
      ]
     },
     "execution_count": 412,
     "metadata": {},
     "output_type": "execute_result"
    }
   ],
   "source": [
    "X = torch.tensor(df[['X', 'Y', 'Area_Command', 'NIBRSOffenseCode', 'DayOfWeek', 'Time']].values, dtype=torch.float32)\n",
    "y = torch.tensor(df['VictimCount'].values, dtype=torch.float32)\n",
    "\n",
    "#Let's define a function to map the number of crime victims to specific classes\n",
    "#We will use class 0 for count number of crime victims from 0 to 1, \n",
    "#            class 1 from 2 to 4\n",
    "#            class 2 from 5 to 10\n",
    "#            class 3 for more than 10.\n",
    "\n",
    "\n",
    "def mappingClass(victims):\n",
    "    if 0 <= victims <= 1:\n",
    "        return 0\n",
    "    elif 2 <= victims <= 4:\n",
    "        return 1\n",
    "    elif 5 <= victims <= 10:\n",
    "        return 2\n",
    "    else:\n",
    "        return 3\n",
    "    \n",
    "classNumber = np.array([mappingClass(victims) for victims in y])\n",
    "classNumber"
   ]
  },
  {
   "cell_type": "code",
   "execution_count": 417,
   "id": "b5aa0505",
   "metadata": {},
   "outputs": [
    {
     "name": "stderr",
     "output_type": "stream",
     "text": [
      "C:\\Users\\Chloé\\AppData\\Local\\Temp\\ipykernel_17784\\3315233693.py:15: UserWarning: To copy construct from a tensor, it is recommended to use sourceTensor.clone().detach() or sourceTensor.clone().detach().requires_grad_(True), rather than torch.tensor(sourceTensor).\n",
      "  X_tensor = torch.tensor(X, dtype=torch.float32)\n"
     ]
    },
    {
     "name": "stdout",
     "output_type": "stream",
     "text": [
      "Epoch 1->20 | MSE : 11.169882774353027\n",
      "Epoch 2->20 | MSE : 5.081475257873535\n",
      "Epoch 3->20 | MSE : 0.8348516225814819\n",
      "Epoch 4->20 | MSE : 1.0786715745925903\n",
      "Epoch 5->20 | MSE : 1.3376601934432983\n",
      "Epoch 6->20 | MSE : 1.4603240489959717\n",
      "Epoch 7->20 | MSE : 1.4807285070419312\n",
      "Epoch 8->20 | MSE : 1.4133634567260742\n",
      "Epoch 9->20 | MSE : 1.2972544431686401\n",
      "Epoch 10->20 | MSE : 1.1452616453170776\n",
      "Epoch 11->20 | MSE : 0.9658159017562866\n",
      "Epoch 12->20 | MSE : 0.7749047875404358\n",
      "Epoch 13->20 | MSE : 0.6163673400878906\n",
      "Epoch 14->20 | MSE : 0.5721277594566345\n",
      "Epoch 15->20 | MSE : 0.6352128386497498\n",
      "Epoch 16->20 | MSE : 0.580105185508728\n",
      "Epoch 17->20 | MSE : 0.5073838233947754\n",
      "Epoch 18->20 | MSE : 0.4922470152378082\n",
      "Epoch 19->20 | MSE : 0.47724831104278564\n",
      "Epoch 20->20 | MSE : 0.44694748520851135\n"
     ]
    }
   ],
   "source": [
    "# Let's define our classification model\n",
    "class Classification(torch.nn.Module):\n",
    "    def __init__(self, input_size, hidden_size, num_classes):\n",
    "        super(Classification, self).__init__()\n",
    "        self.fc1 = torch.nn.Linear(input_size, hidden_size)\n",
    "        self.relu = torch.nn.ReLU()\n",
    "        self.fc2 = torch.nn.Linear(hidden_size, num_classes)\n",
    "\n",
    "    def forward(self, x):\n",
    "        x = self.fc1(x)\n",
    "        x = self.relu(x)\n",
    "        x = self.fc2(x)\n",
    "        return x\n",
    "\n",
    "X_tensor = torch.tensor(X, dtype=torch.float32)\n",
    "Y_tensor = torch.tensor(classNumber, dtype= torch.long)\n",
    "\n",
    "full_dataset = TensorDataset(X_tensor, Y_tensor)\n",
    "\n",
    "# Define train and test sizes\n",
    "train_size = int(0.8 * len(full_dataset))\n",
    "test_size = len(full_dataset) - train_size\n",
    "train_dataset, test_dataset = torch.utils.data.random_split(full_dataset, [train_size, test_size])\n",
    "\n",
    "# Using the same batch size as before\n",
    "batch_size = 64\n",
    "\n",
    "train_loader = DataLoader(train_dataset, batch_size=batch_size, shuffle=True)\n",
    "test_loader = DataLoader(test_dataset, batch_size=batch_size, shuffle=False)\n",
    "\n",
    "input_size = 6  # Number of input we defined in task 1\n",
    "hidden_size = 64 \n",
    "num_classes = 4  # Number of classes we defined above\n",
    "model = Classification(input_size, hidden_size, num_classes)\n",
    "\n",
    "loss_function = torch.nn.CrossEntropyLoss()\n",
    "optimizer = torch.optim.Adam(model.parameters(), lr=0.001)\n",
    "\n",
    "# Training and testing loop\n",
    "num_epochs = 20\n",
    "for epoch in range(num_epochs):\n",
    "    model.train()\n",
    "    for X_train, y_train in train_loader:\n",
    "        optimizer.zero_grad()\n",
    "        output = model(X_train)\n",
    "        loss = loss_function(output, y_train)\n",
    "        loss.backward()\n",
    "        optimizer.step()\n",
    "\n",
    "    model.eval()\n",
    "    with torch.no_grad():\n",
    "        test_loss = 0.0\n",
    "        for X_test, y_test in test_loader:\n",
    "            test_output = model(X_test)\n",
    "            loss = loss_function(test_output, y_test)\n",
    "            test_loss += loss.item()\n",
    "\n",
    "\n",
    "    print(f\"Epoch {epoch + 1}->{num_epochs} | MSE : {test_loss}\")\n"
   ]
  },
  {
   "cell_type": "markdown",
   "id": "84d2a304-6197-4cd9-b31e-745f7862f213",
   "metadata": {},
   "source": [
    "## Task 5"
   ]
  },
  {
   "cell_type": "markdown",
   "id": "d6e4ef16-d828-45e5-bd58-1c49fcfecf52",
   "metadata": {},
   "source": [
    "### Reflect on your results\n",
    "\n",
    "* Write a paragraph about your experience with tasks 3 and 4. How do you compare the results? Which one worked better? Why?\n",
    "* Write a piece of code that finds an example of a  miss-classification. Calculate the probabilities for the output classes and plot them in a bar chart. Also, indicate what is the correct class label."
   ]
  },
  {
   "cell_type": "markdown",
   "id": "85866e3d",
   "metadata": {},
   "source": [
    "I had pretty much no problem making a Regression model that worked out, but it was way harder with classification, since we had to change our one size output into a class to make it work out."
   ]
  },
  {
   "cell_type": "markdown",
   "id": "2e0a73c4",
   "metadata": {},
   "source": [
    "Looking at our MSE, it looks like our Classification model worked better than our regression mode, which might be due to the fact that there is a large range of numerical values for our victim counts."
   ]
  },
  {
   "cell_type": "markdown",
   "id": "6a17f35b",
   "metadata": {},
   "source": [
    "I used AI assistance when coding Classification, especially regarding the mapping class because i could not think of doing it though it is quite logical; but also for the miss-classification code below."
   ]
  },
  {
   "cell_type": "code",
   "execution_count": 414,
   "id": "67c4cdc5",
   "metadata": {},
   "outputs": [
    {
     "data": {
      "image/png": "[encoded data removed]",
      "text/plain": [
       "<Figure size 800x500 with 1 Axes>"
      ]
     },
     "metadata": {},
     "output_type": "display_data"
    },
    {
     "name": "stdout",
     "output_type": "stream",
     "text": [
      "Missclassified Example - Correct Label: 1, Predicted Label: 0\n"
     ]
    }
   ],
   "source": [
    "model.eval()\n",
    "missed_example = None\n",
    "correct_label = None\n",
    "predicted_label = None\n",
    "\n",
    "with torch.no_grad():\n",
    "    for inputs, labels in test_loader:\n",
    "        outputs = model(inputs)\n",
    "        _, predicted = torch.max(outputs, 1)\n",
    "        for i in range(len(predicted)):\n",
    "            if predicted[i] != labels[i]:\n",
    "                missed_example = inputs[i]\n",
    "                correct_label = labels[i]\n",
    "                predicted_label = predicted[i]\n",
    "                break\n",
    "\n",
    "# Calculating probability\n",
    "probabilities = torch.softmax(model(missed_example), dim=0).detach().numpy()\n",
    "\n",
    "# Plotting bar chart\n",
    "plt.figure(figsize=(8, 5))\n",
    "classes = ['0-1 Victim', '2-4 Victims', '5-10 Victims', 'More than 10 Victims']\n",
    "bar_plot = plt.bar(classes, probabilities)\n",
    "plt.xlabel('Victim Count Classes')\n",
    "plt.ylabel('Probabilities')\n",
    "plt.title('Probabilities for Output Classes')\n",
    "\n",
    "# Adding probability values on top of each bar\n",
    "for i, bar in enumerate(bar_plot):\n",
    "    plt.text(bar.get_x() + bar.get_width() / 2, bar.get_height(), f'{probabilities[i]:.2f}', \n",
    "             ha='center', va='bottom')\n",
    "\n",
    "plt.show()\n",
    "\n",
    "print(f'Missclassified Example - Correct Label: {correct_label}, Predicted Label: {predicted_label}')\n"
   ]
  },
  {
   "cell_type": "markdown",
   "id": "5b000b0b-fa37-4f8d-8ec7-0a1e6e749424",
   "metadata": {},
   "source": [
    "## Task 6: Exploring the patterns in raw data\n",
    "\n",
    "* Plot the crime incidents as a `scatter` plot using the corrdinates. Use the color property of each datapoint to indicate the day of the week. Is there a pattern in the plot?\n",
    "* Now make a new scatter plot and use the color property of each datapoint to indicate the number of persons involved in the incident. Is there a pattern here?\n",
    "* use numpy (or pandas if you like) to sort the number of crimes reported by the day of the week. What days are most frequent?\n"
   ]
  },
  {
   "cell_type": "code",
   "execution_count": 415,
   "id": "5b396aaf-5d1a-49cd-ae1d-b63af7e561f5",
   "metadata": {},
   "outputs": [
    {
     "data": {
      "image/png": "[encoded data removed]",
      "text/plain": [
       "<Figure size 640x480 with 1 Axes>"
      ]
     },
     "metadata": {},
     "output_type": "display_data"
    },
    {
     "data": {
      "image/png": "[encoded data removed]",
      "text/plain": [
       "<Figure size 640x480 with 2 Axes>"
      ]
     },
     "metadata": {},
     "output_type": "display_data"
    },
    {
     "name": "stdout",
     "output_type": "stream",
     "text": [
      "DayOfWeek\n",
      "4    51\n",
      "3    44\n",
      "5    43\n",
      "0    40\n",
      "1    37\n",
      "2    32\n",
      "6    28\n",
      "Name: count, dtype: int64\n"
     ]
    }
   ],
   "source": [
    "day_mapping = {\n",
    "    0: 'Monday',\n",
    "    1: 'Tuesday',\n",
    "    2: 'Wednesday',\n",
    "    3: 'Thursday',\n",
    "    4: 'Friday',\n",
    "    5: 'Saturday',\n",
    "    6: 'Sunday'\n",
    "}\n",
    "\n",
    "for day in df['DayOfWeek'].unique():\n",
    "    plt.scatter(df[df['DayOfWeek'] == day]['X'], df[df['DayOfWeek'] == day]['Y'], label=day_mapping[day])\n",
    "\n",
    "plt.title('Crime Incidents based on Coordinates')\n",
    "plt.xlabel('X')\n",
    "plt.ylabel('Y')\n",
    "plt.legend()\n",
    "plt.show()\n",
    "\n",
    "plt.scatter(df['X'], df['Y'], c=df['VictimCount'])\n",
    "plt.colorbar(label='Number of Persons Involved')\n",
    "plt.title('Crime Incidents based on Coordinates')\n",
    "plt.xlabel('X')\n",
    "plt.ylabel('Y')\n",
    "plt.show()\n",
    "\n",
    "# Using numpy (or pandas) to sort the number of crimes reported by day of the week\n",
    "crimes_by_day = df['DayOfWeek'].value_counts().sort_values(ascending=False)\n",
    "print(crimes_by_day)\n"
   ]
  },
  {
   "cell_type": "markdown",
   "id": "419c0bac",
   "metadata": {},
   "source": [
    "Both plots are higlighting a cluster in a certain area. It looks like there are a lots of pink and brown dots, which correspond to the sunday and saturday, and it also looks like the majority of crime incidents involve 1 person at most since purple is a dominent color."
   ]
  }
 ],
 "metadata": {
  "kernelspec": {
   "display_name": "Python 3 (ipykernel)",
   "language": "python",
   "name": "python3"
  },
  "language_info": {
   "codemirror_mode": {
    "name": "ipython",
    "version": 3
   },
   "file_extension": ".py",
   "mimetype": "text/x-python",
   "name": "python",
   "nbconvert_exporter": "python",
   "pygments_lexer": "ipython3",
   "version": "3.10.0"
  }
 },
 "nbformat": 4,
 "nbformat_minor": 5
}
